{
 "cells": [
  {
   "cell_type": "code",
   "execution_count": null,
   "metadata": {
    "collapsed": true
   },
   "outputs": [],
   "source": [
    "%load_ext autoreload\n",
    "%autoreload 2"
   ]
  },
  {
   "cell_type": "code",
   "execution_count": null,
   "metadata": {
    "collapsed": true
   },
   "outputs": [],
   "source": [
    "import pandas as pd\n",
    "from parsers.netflix.ActivityParser import NetflixActivityParser"
   ]
  },
  {
   "cell_type": "code",
   "execution_count": null,
   "metadata": {
    "scrolled": true
   },
   "outputs": [],
   "source": [
    "ap = NetflixActivityParser('data/netflix/NetflixData.htm')\n",
    "nfx = pd.DataFrame(ap.parse())\n",
    "runtimes_tv = pd.read_csv('data/netflix/runtimes_tv.csv')\n",
    "runtimes_movies = pd.read_csv('data/netflix/runtimes_movies.csv')"
   ]
  },
  {
   "cell_type": "code",
   "execution_count": null,
   "metadata": {
    "collapsed": true
   },
   "outputs": [],
   "source": [
    "# Merge runtime data and cleanup columns\n",
    "nfx = pd.merge(nfx, runtimes_movies, on='title', how='outer')\n",
    "nfx = pd.merge(nfx, runtimes_tv, on='series', how='outer')\n",
    "nfx['runtime'] = nfx['runtime_x'].fillna(nfx['runtime_y'])\n",
    "nfx = nfx.drop(['runtime_x', 'runtime_y'], axis = 1)"
   ]
  },
  {
   "cell_type": "code",
   "execution_count": null,
   "metadata": {},
   "outputs": [],
   "source": [
    "# How many days have I spent on netflix :'(\n",
    "nfx['runtime'].sum()/60/24"
   ]
  },
  {
   "cell_type": "code",
   "execution_count": null,
   "metadata": {
    "collapsed": true
   },
   "outputs": [],
   "source": []
  }
 ],
 "metadata": {
  "kernelspec": {
   "display_name": "Python 3",
   "language": "python",
   "name": "python3"
  },
  "language_info": {
   "codemirror_mode": {
    "name": "ipython",
    "version": 3
   },
   "file_extension": ".py",
   "mimetype": "text/x-python",
   "name": "python",
   "nbconvert_exporter": "python",
   "pygments_lexer": "ipython3",
   "version": "3.6.0"
  }
 },
 "nbformat": 4,
 "nbformat_minor": 2
}

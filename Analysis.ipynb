{
 "cells": [
  {
   "cell_type": "markdown",
   "metadata": {},
   "source": [
    "# By The Numbers - My Time At UWaterloo\n",
    "\n",
    "To commemorate my recent graduation from the University of Waterloo, like most grads, I decided to take a look back. However, I decided to try something a bit different. Seeing as I graduated with a degree in Computer Engineering, I decided to throw some code and data analysis into the mix, to really see what I learned over the past few years.\n",
    "\n",
    "I started by gathering roughly a gigabyte of data from all the online services I've used over the years - banks, Google, Netflix and even from the University of Waterloo - my emails, transcripts and various other academic records.\n",
    "\n",
    "I dumped all this into a database, wrote some code and came up with some interesting graphs. Without further ado, let's take a look at what I found.\n",
    "\n",
    "One quick note: this analysis is not particularly rigorous, nor am I making any claims about causation. I'm going to show some interesting correlations and try to explain, to the best of my ability, why they occurred."
   ]
  },
  {
   "cell_type": "code",
   "execution_count": 1,
   "metadata": {},
   "outputs": [],
   "source": [
    "import pandas as pd\n",
    "import numpy as np\n",
    "import seaborn as sns\n",
    "import matplotlib.pyplot as plt\n",
    "from IPython.display import set_matplotlib_formats\n",
    "\n",
    "%load_ext sql\n",
    "%config SqlMagic.autopandas=True\n",
    "%config SqlMagic.displaylimit=1\n",
    "%sql mysql://root@localhost/finale\n",
    "    \n",
    "\n",
    "%matplotlib inline\n",
    "sns.set_style(\"ticks\")"
   ]
  },
  {
   "cell_type": "markdown",
   "metadata": {},
   "source": [
    "## Fun Facts\n",
    "\n",
    "Lets look at some quick facts to get started."
   ]
  },
  {
   "cell_type": "code",
   "execution_count": 2,
   "metadata": {},
   "outputs": [
    {
     "name": "stdout",
     "output_type": "stream",
     "text": [
      "1 rows affected.\n"
     ]
    },
    {
     "data": {
      "text/html": [
       "<div>\n",
       "<style scoped>\n",
       "    .dataframe tbody tr th:only-of-type {\n",
       "        vertical-align: middle;\n",
       "    }\n",
       "\n",
       "    .dataframe tbody tr th {\n",
       "        vertical-align: top;\n",
       "    }\n",
       "\n",
       "    .dataframe thead th {\n",
       "        text-align: right;\n",
       "    }\n",
       "</style>\n",
       "<table border=\"1\" class=\"dataframe\">\n",
       "  <thead>\n",
       "    <tr style=\"text-align: right;\">\n",
       "      <th></th>\n",
       "      <th>sum(academic_hours)</th>\n",
       "    </tr>\n",
       "  </thead>\n",
       "  <tbody>\n",
       "    <tr>\n",
       "      <th>0</th>\n",
       "      <td>2415.083333</td>\n",
       "    </tr>\n",
       "  </tbody>\n",
       "</table>\n",
       "</div>"
      ],
      "text/plain": [
       "   sum(academic_hours)\n",
       "0          2415.083333"
      ]
     },
     "execution_count": 2,
     "metadata": {},
     "output_type": "execute_result"
    }
   ],
   "source": [
    "%sql SELECT sum(academic_hours) from academics_class_hours;"
   ]
  },
  {
   "cell_type": "code",
   "execution_count": 3,
   "metadata": {},
   "outputs": [
    {
     "name": "stdout",
     "output_type": "stream",
     "text": [
      "1 rows affected.\n"
     ]
    },
    {
     "data": {
      "text/html": [
       "<div>\n",
       "<style scoped>\n",
       "    .dataframe tbody tr th:only-of-type {\n",
       "        vertical-align: middle;\n",
       "    }\n",
       "\n",
       "    .dataframe tbody tr th {\n",
       "        vertical-align: top;\n",
       "    }\n",
       "\n",
       "    .dataframe thead th {\n",
       "        text-align: right;\n",
       "    }\n",
       "</style>\n",
       "<table border=\"1\" class=\"dataframe\">\n",
       "  <thead>\n",
       "    <tr style=\"text-align: right;\">\n",
       "      <th></th>\n",
       "      <th>count(distinct(course))</th>\n",
       "    </tr>\n",
       "  </thead>\n",
       "  <tbody>\n",
       "    <tr>\n",
       "      <th>0</th>\n",
       "      <td>52</td>\n",
       "    </tr>\n",
       "  </tbody>\n",
       "</table>\n",
       "</div>"
      ],
      "text/plain": [
       "   count(distinct(course))\n",
       "0                       52"
      ]
     },
     "execution_count": 3,
     "metadata": {},
     "output_type": "execute_result"
    }
   ],
   "source": [
    "%sql SELECT count(distinct(course)) from transcript;"
   ]
  },
  {
   "cell_type": "code",
   "execution_count": 4,
   "metadata": {},
   "outputs": [
    {
     "name": "stdout",
     "output_type": "stream",
     "text": [
      "22 rows affected.\n",
      "Returning data to local variable df\n"
     ]
    }
   ],
   "source": [
    "%sql df << SELECT * from important_dates;"
   ]
  },
  {
   "cell_type": "code",
   "execution_count": 5,
   "metadata": {},
   "outputs": [
    {
     "data": {
      "text/plain": [
       "1688"
      ]
     },
     "execution_count": 5,
     "metadata": {},
     "output_type": "execute_result"
    }
   ],
   "source": [
    "df = df.replace({'period' : {'exam':'academic', 'class': 'academic'}})\n",
    "total_days = (df.end.max() - df.start.min()).days\n",
    "total_days"
   ]
  },
  {
   "cell_type": "code",
   "execution_count": 6,
   "metadata": {},
   "outputs": [
    {
     "data": {
      "text/html": [
       "<div>\n",
       "<style scoped>\n",
       "    .dataframe tbody tr th:only-of-type {\n",
       "        vertical-align: middle;\n",
       "    }\n",
       "\n",
       "    .dataframe tbody tr th {\n",
       "        vertical-align: top;\n",
       "    }\n",
       "\n",
       "    .dataframe thead th {\n",
       "        text-align: right;\n",
       "    }\n",
       "</style>\n",
       "<table border=\"1\" class=\"dataframe\">\n",
       "  <thead>\n",
       "    <tr style=\"text-align: right;\">\n",
       "      <th></th>\n",
       "      <th>period</th>\n",
       "      <th>duration</th>\n",
       "    </tr>\n",
       "  </thead>\n",
       "  <tbody>\n",
       "    <tr>\n",
       "      <th>0</th>\n",
       "      <td>academic</td>\n",
       "      <td>846</td>\n",
       "    </tr>\n",
       "    <tr>\n",
       "      <th>1</th>\n",
       "      <td>coop</td>\n",
       "      <td>661</td>\n",
       "    </tr>\n",
       "    <tr>\n",
       "      <th>2</th>\n",
       "      <td>off</td>\n",
       "      <td>181</td>\n",
       "    </tr>\n",
       "  </tbody>\n",
       "</table>\n",
       "</div>"
      ],
      "text/plain": [
       "     period  duration\n",
       "0  academic       846\n",
       "1      coop       661\n",
       "2       off       181"
      ]
     },
     "execution_count": 6,
     "metadata": {},
     "output_type": "execute_result"
    }
   ],
   "source": [
    "df2 = df.groupby(['term', 'period']).start.min().reset_index()\n",
    "df2['end'] = df.groupby(['term', 'period']).end.max().reset_index().end\n",
    "df2['duration'] = df2.end-df2.start\n",
    "df2['duration'] = df2.duration.apply(lambda x: x.days)\n",
    "df2 = df2.groupby('period').sum().reset_index()\n",
    "df2.loc[2] = ['off', (df.end.max() - df.start.min()).days - df2.duration.sum()]  # adding a row\n",
    "df2"
   ]
  },
  {
   "cell_type": "code",
   "execution_count": 7,
   "metadata": {},
   "outputs": [
    {
     "name": "stderr",
     "output_type": "stream",
     "text": [
      "/usr/local/lib/python3.6/site-packages/seaborn/categorical.py:1460: FutureWarning: remove_na is deprecated and is a private function. Do not use.\n",
      "  stat_data = remove_na(group_data)\n"
     ]
    },
    {
     "data": {
      "image/png": "[encoded data removed]",
      "text/plain": [
       "<Figure size 432x288 with 1 Axes>"
      ]
     },
     "metadata": {},
     "output_type": "display_data"
    }
   ],
   "source": [
    "sns.set_palette(sns.color_palette(\"muted\"))\n",
    "\n",
    "ax = sns.barplot(x='duration', y='period', data=df2)\n",
    "sns.despine()\n",
    "ax.xaxis.labelpad = 10\n",
    "ax.set_title('Composition of a UWaterloo Co-op Degree')\n",
    "ax.set(xlabel='Days', ylabel='Period')\n",
    "ax.get_figure().tight_layout()\n",
    "ax.get_figure().savefig('export/academics_day_breakdown.svg', transparent=True)"
   ]
  },
  {
   "cell_type": "markdown",
   "metadata": {},
   "source": [
    "### Time At Waterloo\n",
    "Over the course of my degree at the University of Waterloo, I've had 8 academic terms and 6 co-op terms. That's a grand total of 1688 days, which is approximately 4.5 years.\n",
    "\n",
    "A common misconception at Waterloo is the idea you have no days off - you're either studying or on a co-op term. The data, however, tells a different story. While I did spent most of my time working, I did have approximately 40 days a year off. Not too bad and it's definitely more than you get in the real world."
   ]
  },
  {
   "cell_type": "markdown",
   "metadata": {},
   "source": [
    "## Academics"
   ]
  },
  {
   "cell_type": "code",
   "execution_count": 8,
   "metadata": {},
   "outputs": [
    {
     "name": "stdout",
     "output_type": "stream",
     "text": [
      "9 rows affected.\n",
      "Returning data to local variable df\n"
     ]
    }
   ],
   "source": [
    "%%sql\n",
    "df << select * from academics_class_hours"
   ]
  },
  {
   "cell_type": "code",
   "execution_count": 9,
   "metadata": {},
   "outputs": [],
   "source": [
    "df['class_hours'] = df.class_hours / (df.length_days / 7)\n",
    "df['tut_hours'] = df.tut_hours / (df.length_days / 7)\n",
    "df['lab_hours'] = df.lab_hours / (df.length_days / 7)"
   ]
  },
  {
   "cell_type": "code",
   "execution_count": 10,
   "metadata": {},
   "outputs": [
    {
     "data": {
      "image/png": "[encoded data removed]",
      "text/plain": [
       "<Figure size 432x288 with 1 Axes>"
      ]
     },
     "metadata": {},
     "output_type": "display_data"
    }
   ],
   "source": [
    "df = df[df.semester.notnull()]\n",
    "df['semester'] = df.semester.astype(int)\n",
    "ax = df[['semester', 'class_hours', 'tut_hours', 'lab_hours']].set_index('semester').plot(kind='bar', stacked=True)\n",
    "ax.tick_params(axis='x', rotation=0)\n",
    "sns.despine()\n",
    "ax.xaxis.labelpad = 10\n",
    "ax.yaxis.labelpad = 10\n",
    "ax.set_title('Composition of Academic Hours')\n",
    "ax.set(xlabel='Semester', ylabel='Hours per Week')\n",
    "ax.get_figure().tight_layout()\n",
    "ax.get_figure().savefig('export/academics_hour_breakdown.svg', transparent=True)"
   ]
  },
  {
   "cell_type": "markdown",
   "metadata": {},
   "source": [
    "### Workload\n",
    "To fulfill my degree requirements, I took 52 courses which amounted to 2415 hours of scheduled class time.\n",
    "\n",
    "Average academic hours peaked at 30 hours/week during the notorious ECE 2A, after which they have generally decreased. The composition of academic hours has roughly stayed the same throughout my undergrad career, with the exception of tutorials becoming less significant in my upper years."
   ]
  },
  {
   "cell_type": "code",
   "execution_count": 11,
   "metadata": {},
   "outputs": [
    {
     "name": "stdout",
     "output_type": "stream",
     "text": [
      "8 rows affected.\n",
      "Returning data to local variable df\n"
     ]
    }
   ],
   "source": [
    "%%sql\n",
    "df << select * from academics_transcript_summary"
   ]
  },
  {
   "cell_type": "code",
   "execution_count": 12,
   "metadata": {},
   "outputs": [
    {
     "data": {
      "image/png": "[encoded data removed]",
      "text/plain": [
       "<Figure size 432x288 with 1 Axes>"
      ]
     },
     "metadata": {},
     "output_type": "display_data"
    }
   ],
   "source": [
    "df['semester'] = [1, 2, 3, 4, 5, 6, 7, 8]\n",
    "ax = sns.regplot(x='semester', y='gpa', data=df)\n",
    "ax.set(ylim=(75, 90))\n",
    "\n",
    "sns.despine()\n",
    "ax.xaxis.labelpad = 10\n",
    "ax.yaxis.labelpad = 10\n",
    "ax.set_title('GPA Over Time')\n",
    "ax.set(xlabel='Semester', ylabel='GPA')\n",
    "ax.get_figure().tight_layout()\n",
    "ax.get_figure().savefig('export/academics_gpa_vs_semester.svg', transparent=True)"
   ]
  },
  {
   "cell_type": "markdown",
   "metadata": {},
   "source": [
    "### GPA\n",
    "My GPA has fluctuated, but generally trended upward towards the end of my degree. I suspect this is due to a few things, including getting acclimatized the the university experience and the variety of interesting technical courses in the upper years. Of course, some of the easier electives (https://alobo.github.io/electives/) certainly helped."
   ]
  },
  {
   "cell_type": "markdown",
   "metadata": {},
   "source": [
    "### Attendance\n",
    "\n",
    "Did you know that the Timeline feature on Google Maps tracks your location? I exported my data from Google and was surprised to find GPS coordinates recorded every few minutes, from the past five years. I knew Google was tracking this, but I was surprised at the accuracy and quantity of information. \n",
    "\n",
    "Kinda scary, but this data is also useful for what I'm doing here."
   ]
  },
  {
   "cell_type": "code",
   "execution_count": 13,
   "metadata": {},
   "outputs": [
    {
     "name": "stdout",
     "output_type": "stream",
     "text": [
      "8 rows affected.\n",
      "Returning data to local variable df\n"
     ]
    }
   ],
   "source": [
    "%%sql\n",
    "df << select * from location_aggregate_event_attendance"
   ]
  },
  {
   "cell_type": "code",
   "execution_count": 14,
   "metadata": {},
   "outputs": [],
   "source": [
    "df = df[df.semester.notnull()]\n",
    "df['attendance'] = pd.to_numeric(df['attendance'])"
   ]
  },
  {
   "cell_type": "code",
   "execution_count": 15,
   "metadata": {},
   "outputs": [
    {
     "data": {
      "image/png": "[encoded data removed]",
      "text/plain": [
       "<Figure size 432x288 with 1 Axes>"
      ]
     },
     "metadata": {},
     "output_type": "display_data"
    }
   ],
   "source": [
    "ax = sns.regplot(x='semester', y='attendance', data=df)\n",
    "sns.despine()\n",
    "ax.xaxis.labelpad = 10\n",
    "ax.yaxis.labelpad = 10\n",
    "ax.set_title('Attendance vs Semester')\n",
    "ax.set(xlabel='Semester', ylabel='GPA')\n",
    "ax.get_figure().tight_layout()\n",
    "ax.get_figure().savefig('export/academics_attendance_vs_semester.svg', transparent=True)"
   ]
  },
  {
   "cell_type": "markdown",
   "metadata": {},
   "source": [
    "Attendance has been on a general decline since I started (with the exception of some classes with mandatory attendance skewing the numbers)."
   ]
  },
  {
   "cell_type": "code",
   "execution_count": 16,
   "metadata": {},
   "outputs": [
    {
     "name": "stdout",
     "output_type": "stream",
     "text": [
      "1518 rows affected.\n",
      "Returning data to local variable df\n"
     ]
    }
   ],
   "source": [
    "%%sql\n",
    "df << SELECT (DAYOFWEEK(start)) as day, present FROM event_attendance;"
   ]
  },
  {
   "cell_type": "code",
   "execution_count": 17,
   "metadata": {},
   "outputs": [
    {
     "name": "stderr",
     "output_type": "stream",
     "text": [
      "/usr/local/lib/python3.6/site-packages/seaborn/categorical.py:1460: FutureWarning: remove_na is deprecated and is a private function. Do not use.\n",
      "  stat_data = remove_na(group_data)\n"
     ]
    },
    {
     "data": {
      "image/png": "[encoded data removed]",
      "text/plain": [
       "<Figure size 432x288 with 1 Axes>"
      ]
     },
     "metadata": {},
     "output_type": "display_data"
    }
   ],
   "source": [
    "df = df.replace({'day': {1:'Sun', 2:'Mon', 3:'Tue', 4:'Wed', 5:'Thu', 6:'Fri', 7:'Sat'}})\n",
    "ax = sns.barplot(x='day', y='present', data=df, capsize=.2)\n",
    "ax.set(ylim=(0.65, 0.95))\n",
    "\n",
    "sns.despine()\n",
    "ax.xaxis.labelpad = 10\n",
    "ax.yaxis.labelpad = 10\n",
    "ax.set_title('Attendance vs Day of Week')\n",
    "ax.set(xlabel='Day of Week', ylabel='Attendance (%)')\n",
    "ax.get_figure().tight_layout()\n",
    "ax.get_figure().savefig('export/academics_attendance_vs_day_of_week.svg', transparent=True)"
   ]
  },
  {
   "cell_type": "markdown",
   "metadata": {},
   "source": [
    "My class attendance varied across the week, but most noticeably dropped off on Mondays and Fridays 🤔"
   ]
  },
  {
   "cell_type": "markdown",
   "metadata": {},
   "source": [
    "## Coffee\n",
    "\n",
    "It's no secret - coffee is partially responsible for getting me through my university career. Seeing as I made the most of my coffee purchases with either my credit card or my Waterloo student card, I was able to pull all the records and extract some insights.\n",
    "\n",
    "I was able to sum up how much I had spent at Tim Hortons, Starbucks and various other coffee shops over the past five years. And unfortuantely that number is slightly depressing.\n",
    "\n",
    "So lets talk about something more fun:"
   ]
  },
  {
   "cell_type": "code",
   "execution_count": 18,
   "metadata": {},
   "outputs": [
    {
     "name": "stdout",
     "output_type": "stream",
     "text": [
      "13 rows affected.\n",
      "Returning data to local variable df\n"
     ]
    }
   ],
   "source": [
    "%%sql\n",
    "df << SELECT term, semester, coffee_spend * -1 as coffee_spend, coffee_events FROM finance_coffee_spend"
   ]
  },
  {
   "cell_type": "code",
   "execution_count": 19,
   "metadata": {},
   "outputs": [
    {
     "name": "stderr",
     "output_type": "stream",
     "text": [
      "/usr/local/lib/python3.6/site-packages/seaborn/categorical.py:1460: FutureWarning: remove_na is deprecated and is a private function. Do not use.\n",
      "  stat_data = remove_na(group_data)\n"
     ]
    },
    {
     "data": {
      "text/plain": [
       "Text(0.5,1,'Coffees Purchased Over my Undergrad Degree')"
      ]
     },
     "execution_count": 19,
     "metadata": {},
     "output_type": "execute_result"
    },
    {
     "data": {
      "image/png": "[encoded data removed]",
      "text/plain": [
       "<Figure size 432x288 with 1 Axes>"
      ]
     },
     "metadata": {},
     "output_type": "display_data"
    }
   ],
   "source": [
    "ax = sns.barplot(x='semester', y='coffee_events', data=df, label='test')\n",
    "ax.set_title('Coffees Purchased Over my Undergrad Degree')"
   ]
  },
  {
   "cell_type": "code",
   "execution_count": 20,
   "metadata": {},
   "outputs": [
    {
     "name": "stdout",
     "output_type": "stream",
     "text": [
      "764 rows affected.\n",
      "Returning data to local variable df\n"
     ]
    }
   ],
   "source": [
    "%%sql\n",
    "df << SELECT (DAYOFWEEK(date)) as day, amount * -1 as coffee_spend FROM finances WHERE category LIKE \"%coffee%\""
   ]
  },
  {
   "cell_type": "code",
   "execution_count": 21,
   "metadata": {
    "scrolled": false
   },
   "outputs": [
    {
     "name": "stderr",
     "output_type": "stream",
     "text": [
      "/usr/local/lib/python3.6/site-packages/seaborn/categorical.py:1460: FutureWarning: remove_na is deprecated and is a private function. Do not use.\n",
      "  stat_data = remove_na(group_data)\n"
     ]
    },
    {
     "data": {
      "image/png": "[encoded data removed]",
      "text/plain": [
       "<Figure size 432x288 with 1 Axes>"
      ]
     },
     "metadata": {},
     "output_type": "display_data"
    }
   ],
   "source": [
    "df = df[(df.day != 1) & (df.day != 7)]\n",
    "df = df.sort_values('day')\n",
    "df = df.replace({'day': {1:'Sun', 2:'Mon', 3:'Tue', 4:'Wed', 5:'Thu', 6:'Fri', 7:'Sat'}})\n",
    "ax = sns.countplot(x='day', data=df)\n",
    "\n",
    "sns.despine()\n",
    "ax.xaxis.labelpad = 10\n",
    "ax.yaxis.labelpad = 10\n",
    "ax.set_title('Coffees Purchases vs. Day of Week')\n",
    "ax.set(xlabel='Day of Week', ylabel='Coffees Purchased')\n",
    "ax.get_figure().tight_layout()\n",
    "ax.get_figure().savefig('export/coffee_vs_day_of_week.svg', transparent=True)\n",
    "# # ax.set(ylim=(3, 6.5))"
   ]
  },
  {
   "cell_type": "markdown",
   "metadata": {},
   "source": [
    "Calculate the extra coffee spend on Mondays compared to the rest of the work week"
   ]
  },
  {
   "cell_type": "code",
   "execution_count": 22,
   "metadata": {},
   "outputs": [
    {
     "data": {
      "text/plain": [
       "30.156472261735424"
      ]
     },
     "execution_count": 22,
     "metadata": {},
     "output_type": "execute_result"
    }
   ],
   "source": [
    "avg = df[(df.day != 'Sat') & (df.day != 'Sun')].groupby('day').count().mean().coffee_spend\n",
    "mon = df[df.day == 'Mon'].groupby('day').count().mean().coffee_spend\n",
    "((mon - avg) / avg) * 100"
   ]
  },
  {
   "cell_type": "markdown",
   "metadata": {},
   "source": [
    "# Co-Op\n"
   ]
  },
  {
   "cell_type": "code",
   "execution_count": 23,
   "metadata": {},
   "outputs": [
    {
     "name": "stdout",
     "output_type": "stream",
     "text": [
      "8 rows affected.\n",
      "Returning data to local variable df\n"
     ]
    }
   ],
   "source": [
    "%%sql\n",
    "df << SELECT * FROM academics_coop_interviews"
   ]
  },
  {
   "cell_type": "code",
   "execution_count": 24,
   "metadata": {},
   "outputs": [
    {
     "name": "stderr",
     "output_type": "stream",
     "text": [
      "/usr/local/lib/python3.6/site-packages/seaborn/categorical.py:1460: FutureWarning: remove_na is deprecated and is a private function. Do not use.\n",
      "  stat_data = remove_na(group_data)\n"
     ]
    },
    {
     "data": {
      "image/png": "[encoded data removed]",
      "text/plain": [
       "<Figure size 432x288 with 1 Axes>"
      ]
     },
     "metadata": {},
     "output_type": "display_data"
    }
   ],
   "source": [
    "# Only care about 6 co-op terms\n",
    "df = df[df.semester <= 6]\n",
    "\n",
    "ax = sns.barplot(x='semester', y='interviews', data=df)\n",
    "sns.despine()\n",
    "ax.xaxis.labelpad = 10\n",
    "ax.yaxis.labelpad = 10\n",
    "ax.set_title('Number of Interviews vs. Internship')\n",
    "ax.set(xlabel='Internship Number', ylabel='Number of Interviews')\n",
    "ax.get_figure().tight_layout()\n",
    "ax.get_figure().savefig('export/coop_interviews_vs_internship.svg', transparent=True)\n",
    "# # ax.set(ylim=(3, 6.5))"
   ]
  },
  {
   "cell_type": "markdown",
   "metadata": {},
   "source": [
    "## Netflix!"
   ]
  },
  {
   "cell_type": "code",
   "execution_count": 25,
   "metadata": {},
   "outputs": [
    {
     "name": "stdout",
     "output_type": "stream",
     "text": [
      "15 rows affected.\n",
      "Returning data to local variable df\n"
     ]
    }
   ],
   "source": [
    "%%sql\n",
    "df << SELECT * FROM  media_consumption"
   ]
  },
  {
   "cell_type": "code",
   "execution_count": 26,
   "metadata": {},
   "outputs": [
    {
     "data": {
      "text/html": [
       "<div>\n",
       "<style scoped>\n",
       "    .dataframe tbody tr th:only-of-type {\n",
       "        vertical-align: middle;\n",
       "    }\n",
       "\n",
       "    .dataframe tbody tr th {\n",
       "        vertical-align: top;\n",
       "    }\n",
       "\n",
       "    .dataframe thead th {\n",
       "        text-align: right;\n",
       "    }\n",
       "</style>\n",
       "<table border=\"1\" class=\"dataframe\">\n",
       "  <thead>\n",
       "    <tr style=\"text-align: right;\">\n",
       "      <th></th>\n",
       "      <th>term</th>\n",
       "      <th>semester</th>\n",
       "      <th>hours_watched</th>\n",
       "      <th>movie_count</th>\n",
       "      <th>shows_count</th>\n",
       "      <th>average_runtime</th>\n",
       "    </tr>\n",
       "  </thead>\n",
       "  <tbody>\n",
       "    <tr>\n",
       "      <th>0</th>\n",
       "      <td>None</td>\n",
       "      <td>NaN</td>\n",
       "      <td>119.316667</td>\n",
       "      <td>5</td>\n",
       "      <td>165</td>\n",
       "      <td>0.674105</td>\n",
       "    </tr>\n",
       "    <tr>\n",
       "      <th>1</th>\n",
       "      <td>1A</td>\n",
       "      <td>1.0</td>\n",
       "      <td>40.600000</td>\n",
       "      <td>6</td>\n",
       "      <td>70</td>\n",
       "      <td>0.534211</td>\n",
       "    </tr>\n",
       "    <tr>\n",
       "      <th>2</th>\n",
       "      <td>1B</td>\n",
       "      <td>2.0</td>\n",
       "      <td>58.266667</td>\n",
       "      <td>10</td>\n",
       "      <td>72</td>\n",
       "      <td>0.710569</td>\n",
       "    </tr>\n",
       "    <tr>\n",
       "      <th>3</th>\n",
       "      <td>2A</td>\n",
       "      <td>3.0</td>\n",
       "      <td>28.250000</td>\n",
       "      <td>1</td>\n",
       "      <td>71</td>\n",
       "      <td>0.392361</td>\n",
       "    </tr>\n",
       "    <tr>\n",
       "      <th>4</th>\n",
       "      <td>2B</td>\n",
       "      <td>4.0</td>\n",
       "      <td>34.000000</td>\n",
       "      <td>2</td>\n",
       "      <td>65</td>\n",
       "      <td>0.507463</td>\n",
       "    </tr>\n",
       "  </tbody>\n",
       "</table>\n",
       "</div>"
      ],
      "text/plain": [
       "   term  semester  hours_watched movie_count shows_count  average_runtime\n",
       "0  None       NaN     119.316667           5         165         0.674105\n",
       "1    1A       1.0      40.600000           6          70         0.534211\n",
       "2    1B       2.0      58.266667          10          72         0.710569\n",
       "3    2A       3.0      28.250000           1          71         0.392361\n",
       "4    2B       4.0      34.000000           2          65         0.507463"
      ]
     },
     "execution_count": 26,
     "metadata": {},
     "output_type": "execute_result"
    }
   ],
   "source": [
    "df.head()"
   ]
  },
  {
   "cell_type": "code",
   "execution_count": 27,
   "metadata": {},
   "outputs": [
    {
     "name": "stderr",
     "output_type": "stream",
     "text": [
      "/usr/local/lib/python3.6/site-packages/seaborn/categorical.py:1460: FutureWarning: remove_na is deprecated and is a private function. Do not use.\n",
      "  stat_data = remove_na(group_data)\n"
     ]
    },
    {
     "data": {
      "image/png": "[encoded data removed]",
      "text/plain": [
       "<Figure size 432x288 with 1 Axes>"
      ]
     },
     "metadata": {},
     "output_type": "display_data"
    }
   ],
   "source": [
    "ax = sns.barplot(x='semester', y='hours_watched', data=df[df.semester > 0], label='test')\n",
    "# ax.set_title('Coffees Purchased Over my Undergrad Degree')"
   ]
  },
  {
   "cell_type": "code",
   "execution_count": 28,
   "metadata": {},
   "outputs": [
    {
     "name": "stdout",
     "output_type": "stream",
     "text": [
      "1306 rows affected.\n",
      "Returning data to local variable df\n"
     ]
    }
   ],
   "source": [
    "%%sql\n",
    "df << SELECT (DAYOFWEEK(date)) as day, runtime FROM media"
   ]
  },
  {
   "cell_type": "code",
   "execution_count": 29,
   "metadata": {},
   "outputs": [
    {
     "name": "stderr",
     "output_type": "stream",
     "text": [
      "/usr/local/lib/python3.6/site-packages/seaborn/categorical.py:1460: FutureWarning: remove_na is deprecated and is a private function. Do not use.\n",
      "  stat_data = remove_na(group_data)\n"
     ]
    },
    {
     "data": {
      "text/plain": [
       "[(150, 225)]"
      ]
     },
     "execution_count": 29,
     "metadata": {},
     "output_type": "execute_result"
    },
    {
     "data": {
      "image/png": "[encoded data removed]",
      "text/plain": [
       "<Figure size 432x288 with 1 Axes>"
      ]
     },
     "metadata": {},
     "output_type": "display_data"
    }
   ],
   "source": [
    "df = df.sort_values('day')\n",
    "df = df.replace({'day': {1:'Sun', 2:'Mon', 3:'Tue', 4:'Wed', 5:'Thu', 6:'Fri', 7:'Sat'}})\n",
    "# ax = sns.pointplot(x='day', y='coffee_spend', data=df, capsize=.2)\n",
    "ax = sns.countplot(x='day', data=df)\n",
    "# ax.set_title('Coffees Purchases vs. Day of Week')\n",
    "ax.set(ylim=(150, 225))"
   ]
  },
  {
   "cell_type": "markdown",
   "metadata": {},
   "source": [
    "# Big Picture\n",
    "\n",
    "The last thing left to do was look at correlations."
   ]
  },
  {
   "cell_type": "code",
   "execution_count": 30,
   "metadata": {},
   "outputs": [
    {
     "name": "stdout",
     "output_type": "stream",
     "text": [
      "8 rows affected.\n",
      "Returning data to local variable df\n"
     ]
    }
   ],
   "source": [
    "%%sql\n",
    "df << SELECT * FROM academics_transcript_summary\n",
    "    LEFT JOIN academics_coop_interviews USING(term)\n",
    "    LEFT JOIN academics_class_hours USING(term, semester)\n",
    "    LEFT JOIN finance_coffee_spend USING(term, semester)\n",
    "    LEFT JOIN location_aggregate_event_attendance USING(term, semester)\n",
    "    LEFT JOIN location_home_visits USING(term, semester)\n",
    "    LEFT JOIN media_consumption USING(term, semester);"
   ]
  },
  {
   "cell_type": "code",
   "execution_count": 31,
   "metadata": {},
   "outputs": [
    {
     "data": {
      "text/html": [
       "<div>\n",
       "<style scoped>\n",
       "    .dataframe tbody tr th:only-of-type {\n",
       "        vertical-align: middle;\n",
       "    }\n",
       "\n",
       "    .dataframe tbody tr th {\n",
       "        vertical-align: top;\n",
       "    }\n",
       "\n",
       "    .dataframe thead th {\n",
       "        text-align: right;\n",
       "    }\n",
       "</style>\n",
       "<table border=\"1\" class=\"dataframe\">\n",
       "  <thead>\n",
       "    <tr style=\"text-align: right;\">\n",
       "      <th></th>\n",
       "      <th>semester</th>\n",
       "      <th>gpa</th>\n",
       "      <th>interviews</th>\n",
       "      <th>academic_hours</th>\n",
       "      <th>class_hours</th>\n",
       "      <th>avg_lec_len</th>\n",
       "      <th>tut_hours</th>\n",
       "      <th>lab_hours</th>\n",
       "      <th>length_days</th>\n",
       "      <th>coffee_events</th>\n",
       "      <th>attendance</th>\n",
       "      <th>days_at_home</th>\n",
       "      <th>hours_watched</th>\n",
       "    </tr>\n",
       "  </thead>\n",
       "  <tbody>\n",
       "    <tr>\n",
       "      <th>0</th>\n",
       "      <td>1</td>\n",
       "      <td>83.4</td>\n",
       "      <td>4.0</td>\n",
       "      <td>342.416667</td>\n",
       "      <td>197.750000</td>\n",
       "      <td>0.886771</td>\n",
       "      <td>100.666667</td>\n",
       "      <td>44.000000</td>\n",
       "      <td>84</td>\n",
       "      <td>17</td>\n",
       "      <td>NaN</td>\n",
       "      <td>0.0</td>\n",
       "      <td>40.600000</td>\n",
       "    </tr>\n",
       "    <tr>\n",
       "      <th>1</th>\n",
       "      <td>2</td>\n",
       "      <td>84.0</td>\n",
       "      <td>1.0</td>\n",
       "      <td>350.166667</td>\n",
       "      <td>207.833333</td>\n",
       "      <td>0.884397</td>\n",
       "      <td>91.333333</td>\n",
       "      <td>51.000000</td>\n",
       "      <td>86</td>\n",
       "      <td>59</td>\n",
       "      <td>0.8599</td>\n",
       "      <td>7.0</td>\n",
       "      <td>58.266667</td>\n",
       "    </tr>\n",
       "    <tr>\n",
       "      <th>2</th>\n",
       "      <td>3</td>\n",
       "      <td>78.0</td>\n",
       "      <td>4.0</td>\n",
       "      <td>396.166667</td>\n",
       "      <td>235.000000</td>\n",
       "      <td>0.833333</td>\n",
       "      <td>65.833333</td>\n",
       "      <td>95.333333</td>\n",
       "      <td>91</td>\n",
       "      <td>67</td>\n",
       "      <td>0.8579</td>\n",
       "      <td>11.0</td>\n",
       "      <td>28.250000</td>\n",
       "    </tr>\n",
       "    <tr>\n",
       "      <th>3</th>\n",
       "      <td>4</td>\n",
       "      <td>81.0</td>\n",
       "      <td>6.0</td>\n",
       "      <td>294.000000</td>\n",
       "      <td>189.500000</td>\n",
       "      <td>1.343972</td>\n",
       "      <td>50.666667</td>\n",
       "      <td>53.833333</td>\n",
       "      <td>85</td>\n",
       "      <td>80</td>\n",
       "      <td>0.8537</td>\n",
       "      <td>16.0</td>\n",
       "      <td>34.000000</td>\n",
       "    </tr>\n",
       "    <tr>\n",
       "      <th>4</th>\n",
       "      <td>5</td>\n",
       "      <td>78.2</td>\n",
       "      <td>9.0</td>\n",
       "      <td>277.833333</td>\n",
       "      <td>173.333333</td>\n",
       "      <td>1.171171</td>\n",
       "      <td>52.833333</td>\n",
       "      <td>51.666667</td>\n",
       "      <td>85</td>\n",
       "      <td>139</td>\n",
       "      <td>0.7286</td>\n",
       "      <td>13.0</td>\n",
       "      <td>40.083333</td>\n",
       "    </tr>\n",
       "    <tr>\n",
       "      <th>5</th>\n",
       "      <td>6</td>\n",
       "      <td>84.8</td>\n",
       "      <td>0.0</td>\n",
       "      <td>324.500000</td>\n",
       "      <td>206.333333</td>\n",
       "      <td>1.339827</td>\n",
       "      <td>56.333333</td>\n",
       "      <td>61.833333</td>\n",
       "      <td>90</td>\n",
       "      <td>105</td>\n",
       "      <td>0.7977</td>\n",
       "      <td>12.0</td>\n",
       "      <td>75.616667</td>\n",
       "    </tr>\n",
       "    <tr>\n",
       "      <th>6</th>\n",
       "      <td>7</td>\n",
       "      <td>84.2</td>\n",
       "      <td>0.0</td>\n",
       "      <td>209.000000</td>\n",
       "      <td>142.166667</td>\n",
       "      <td>1.137333</td>\n",
       "      <td>30.000000</td>\n",
       "      <td>36.833333</td>\n",
       "      <td>85</td>\n",
       "      <td>83</td>\n",
       "      <td>0.8430</td>\n",
       "      <td>17.0</td>\n",
       "      <td>67.583333</td>\n",
       "    </tr>\n",
       "    <tr>\n",
       "      <th>7</th>\n",
       "      <td>8</td>\n",
       "      <td>88.0</td>\n",
       "      <td>0.0</td>\n",
       "      <td>220.166667</td>\n",
       "      <td>173.333333</td>\n",
       "      <td>1.333333</td>\n",
       "      <td>10.833333</td>\n",
       "      <td>36.000000</td>\n",
       "      <td>90</td>\n",
       "      <td>68</td>\n",
       "      <td>0.6500</td>\n",
       "      <td>17.0</td>\n",
       "      <td>57.216667</td>\n",
       "    </tr>\n",
       "  </tbody>\n",
       "</table>\n",
       "</div>"
      ],
      "text/plain": [
       "   semester   gpa  interviews  academic_hours  class_hours  avg_lec_len  \\\n",
       "0         1  83.4         4.0      342.416667   197.750000     0.886771   \n",
       "1         2  84.0         1.0      350.166667   207.833333     0.884397   \n",
       "2         3  78.0         4.0      396.166667   235.000000     0.833333   \n",
       "3         4  81.0         6.0      294.000000   189.500000     1.343972   \n",
       "4         5  78.2         9.0      277.833333   173.333333     1.171171   \n",
       "5         6  84.8         0.0      324.500000   206.333333     1.339827   \n",
       "6         7  84.2         0.0      209.000000   142.166667     1.137333   \n",
       "7         8  88.0         0.0      220.166667   173.333333     1.333333   \n",
       "\n",
       "    tut_hours  lab_hours  length_days  coffee_events  attendance  \\\n",
       "0  100.666667  44.000000           84             17         NaN   \n",
       "1   91.333333  51.000000           86             59      0.8599   \n",
       "2   65.833333  95.333333           91             67      0.8579   \n",
       "3   50.666667  53.833333           85             80      0.8537   \n",
       "4   52.833333  51.666667           85            139      0.7286   \n",
       "5   56.333333  61.833333           90            105      0.7977   \n",
       "6   30.000000  36.833333           85             83      0.8430   \n",
       "7   10.833333  36.000000           90             68      0.6500   \n",
       "\n",
       "   days_at_home  hours_watched  \n",
       "0           0.0      40.600000  \n",
       "1           7.0      58.266667  \n",
       "2          11.0      28.250000  \n",
       "3          16.0      34.000000  \n",
       "4          13.0      40.083333  \n",
       "5          12.0      75.616667  \n",
       "6          17.0      67.583333  \n",
       "7          17.0      57.216667  "
      ]
     },
     "execution_count": 31,
     "metadata": {},
     "output_type": "execute_result"
    }
   ],
   "source": [
    "df = df.drop(columns=['term'])\n",
    "df = df.drop(columns=['movie_count', 'shows_count', 'average_runtime', 'coffee_spend'])\n",
    "\n",
    "df['interviews'] = pd.to_numeric(df.interviews)\n",
    "df['attendance'] = pd.to_numeric(df.attendance)\n",
    "df['days_at_home'] = pd.to_numeric(df.days_at_home)\n",
    "\n",
    "df"
   ]
  },
  {
   "cell_type": "code",
   "execution_count": null,
   "metadata": {},
   "outputs": [],
   "source": [
    "corr = df.corr()\n",
    "plt.subplots(figsize=(7,6))\n",
    "ax = sns.heatmap(corr, \n",
    "        xticklabels=corr.columns,\n",
    "        yticklabels=corr.columns,\n",
    "        cmap=sns.diverging_palette(220, 10, sep=150, n=9))\n",
    "ax.get_figure().tight_layout()\n",
    "ax.get_figure().savefig('export/correlation_matrix.svg', transparent=True)"
   ]
  },
  {
   "cell_type": "markdown",
   "metadata": {},
   "source": [
    "## Curious Correlations"
   ]
  },
  {
   "cell_type": "markdown",
   "metadata": {},
   "source": [
    "### Netflix & GPA"
   ]
  },
  {
   "cell_type": "code",
   "execution_count": null,
   "metadata": {},
   "outputs": [],
   "source": [
    "ax = sns.regplot(x='gpa', y='hours_watched', data=df)\n",
    "\n",
    "sns.despine()\n",
    "ax.xaxis.labelpad = 10\n",
    "ax.set_title('Hours of Netflix Watched vs. GPA')\n",
    "ax.set(xlabel='GPA', ylabel='Netflix Watched (hours)')\n",
    "ax.get_figure().tight_layout()\n",
    "ax.get_figure().savefig('export/correlation_netflix_gpa.svg', transparent=True)"
   ]
  },
  {
   "cell_type": "markdown",
   "metadata": {},
   "source": [
    "### Coffee & GPA\n",
    "My coffee spend had a mild negative correlation with GPA - more coffees purchased were associated with lower GPAs."
   ]
  },
  {
   "cell_type": "code",
   "execution_count": null,
   "metadata": {
    "scrolled": true
   },
   "outputs": [],
   "source": [
    "ax = sns.regplot(x='coffee_events', y='gpa', data=df)\n",
    "sns.despine()\n",
    "\n",
    "ax.xaxis.labelpad = 10\n",
    "ax.set_title('Coffees Purchased vs. GPA')\n",
    "ax.set(xlabel='GPA', ylabel='Coffees Purchased')\n",
    "ax.get_figure().tight_layout()\n",
    "ax.get_figure().savefig('export/correlation_coffee_gpa.svg', transparent=True)"
   ]
  },
  {
   "cell_type": "markdown",
   "metadata": {},
   "source": [
    "### Class Hours\n",
    "Hours spent in class had a mild negative correlation with GPA - semesters with greater time in class were associated with lower GPAs."
   ]
  },
  {
   "cell_type": "code",
   "execution_count": null,
   "metadata": {},
   "outputs": [],
   "source": [
    "sns.regplot(x='class_hours', y='gpa', data=df)"
   ]
  },
  {
   "cell_type": "markdown",
   "metadata": {},
   "source": [
    "### Interviews & GPA\n",
    "Possibly the most interesting correlation - the number of interviews in a term had a strong negative correlation with my GPA. This is understandable though, as co-op interviews occur around midterm season and usually end up conflicting with lectures.\n",
    "\n",
    "Current and future Waterloo students - note that this is the tradeoff with the co-op schedule."
   ]
  },
  {
   "cell_type": "code",
   "execution_count": null,
   "metadata": {},
   "outputs": [],
   "source": [
    "ax = sns.regplot(x='interviews', y='gpa', data=df)\n",
    "sns.despine()\n",
    "ax.xaxis.labelpad = 10\n",
    "ax.set_title('Co-op Interviews vs. GPA')\n",
    "ax.set(xlabel='Co-op Interviews', ylabel='GPA')\n",
    "ax.get_figure().tight_layout()\n",
    "ax.get_figure().savefig('export/correlation_gpa_interviews.svg', transparent=True)"
   ]
  },
  {
   "cell_type": "markdown",
   "metadata": {},
   "source": [
    "## Takeaways"
   ]
  },
  {
   "cell_type": "code",
   "execution_count": null,
   "metadata": {
    "scrolled": false
   },
   "outputs": [],
   "source": [
    "df2 = df[['semester', 'gpa', 'interviews', 'coffee_events', 'hours_watched']]\n",
    "df2.columns = ['semester', 'gpa', 'interviews', 'coffee_purchases', 'netflix_hours_watched']\n",
    "df2 = df2.set_index('semester')\n",
    "df2=(df2-df2.min())/(df2.max()-df2.min())\n",
    "df2=(df2-df2.mean())/df2.std()\n",
    "\n",
    "ax = df2.plot()\n",
    "ax.axvline(x=5, color='black', linestyle='dotted')\n",
    "sns.despine()\n",
    "\n",
    "ax.xaxis.labelpad = 10\n",
    "ax.set_title('The Big Picture')\n",
    "ax.set(xlabel='Semester', ylabel='Mean Normalized Value')\n",
    "ax.get_figure().tight_layout()\n",
    "ax.get_figure().savefig('export/the_big_picture.svg', transparent=True)"
   ]
  },
  {
   "cell_type": "markdown",
   "metadata": {},
   "source": [
    "There was a lot more to my university experience that this graph, nor any data, does not capture - the adventures I had, the friends I met and the memories I made.\n",
    "\n",
    "However if I could plot my stress levels, they would look a lot like this graph - they'd start low, peak at semester 5 and drop off afterwards. Semester 5 was an inflection point, representing peak caffeine consumption, a low GPA and tons of hours sunk into interview prep. However it was also where I figured out how the whole university thing worked.\n",
    "\n",
    "And that's my takeaway - to future and current students, Waterloo or otherwise, you will figure things out. You will figure out how you study effectively, how to land interviews and how to schedule everything so you have some free time. Things get better; trust the process.\n",
    "\n",
    "Sure, I recognize all of this is with a sample size of one. But just looking at my classmates and friends, I am confident that the majority fit the same profile."
   ]
  },
  {
   "cell_type": "markdown",
   "metadata": {},
   "source": [
    "# Thank You!\n",
    "\n",
    "Thanks for taking the time to read this! This project was the results of many hours of work doing what I'm quite passionate about - wrangling and visualizing data.\n",
    "\n",
    "\n",
    "## Methadology\n",
    "This code for this project was structured as a simple ETL (Extract-Transfer-Load) Data Pipeline. It processed my data and loaded it into a SQL database, after which I queried it and generated these graphs.\n",
    "\n",
    "Analysis and visualization were performed using several of my facourite Python Data Science tools, including: Jupyter Notebook, pandas, matplotlib and seaborn.\n",
    "You can check out the source code on [GitHub](https://github.com/alobo/by-the-numbers).\n",
    "\n",
    "\n",
    "## Inspirations\n",
    "* https://classprofile.andyzhang.net/\n",
    "* http://joeyloi.com/SYDE2017classprofile.pdf"
   ]
  }
 ],
 "metadata": {
  "kernelspec": {
   "display_name": "Python 3",
   "language": "python",
   "name": "python3"
  },
  "language_info": {
   "codemirror_mode": {
    "name": "ipython",
    "version": 3
   },
   "file_extension": ".py",
   "mimetype": "text/x-python",
   "name": "python",
   "nbconvert_exporter": "python",
   "pygments_lexer": "ipython3",
   "version": "3.6.5"
  }
 },
 "nbformat": 4,
 "nbformat_minor": 2
}

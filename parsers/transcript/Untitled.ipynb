{
 "cells": [
  {
   "cell_type": "code",
   "execution_count": null,
   "metadata": {
    "collapsed": true
   },
   "outputs": [],
   "source": [
    "import re\n",
    "\n",
    "with open('transcript.txt') as f:\n",
    "    t = f.read()\n",
    "\n",
    "t = t.split('__________________________________________________________________________________________')\n",
    "header = t[0]\n",
    "semesters = t[1:]"
   ]
  },
  {
   "cell_type": "code",
   "execution_count": null,
   "metadata": {},
   "outputs": [],
   "source": [
    "lines = semesters[1].split('\\n')\n",
    "lines = list(filter(lambda x: len(x) > 0, lines))\n",
    "\n",
    "# Get the term information\n",
    "m = re.findall('([a-z,A-Z,0-9,-]+)', lines.pop(0))\n",
    "lines.pop(0) # Program info\n",
    "lines.pop(0) # Program info\n",
    "lines.pop(0) # Header"
   ]
  },
  {
   "cell_type": "code",
   "execution_count": null,
   "metadata": {},
   "outputs": [],
   "source": [
    "for line in lines:\n",
    "    print(line)\n",
    "#     print(len(line.strip().split(' ')))"
   ]
  },
  {
   "cell_type": "code",
   "execution_count": null,
   "metadata": {
    "collapsed": true
   },
   "outputs": [],
   "source": []
  }
 ],
 "metadata": {
  "kernelspec": {
   "display_name": "Python 3",
   "language": "python",
   "name": "python3"
  },
  "language_info": {
   "codemirror_mode": {
    "name": "ipython",
    "version": 3
   },
   "file_extension": ".py",
   "mimetype": "text/x-python",
   "name": "python",
   "nbconvert_exporter": "python",
   "pygments_lexer": "ipython3",
   "version": "3.6.0"
  }
 },
 "nbformat": 4,
 "nbformat_minor": 2
}

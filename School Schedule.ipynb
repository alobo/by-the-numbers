{
 "cells": [
  {
   "cell_type": "code",
   "execution_count": 1,
   "metadata": {},
   "outputs": [],
   "source": [
    "%load_ext autoreload\n",
    "%autoreload 2\n",
    "\n",
    "import pandas as pd\n",
    "from parsers.google.CalendarParser import CalendarParser"
   ]
  },
  {
   "cell_type": "code",
   "execution_count": 2,
   "metadata": {},
   "outputs": [
    {
     "data": {
      "text/html": [
       "<div>\n",
       "<table border=\"1\" class=\"dataframe\">\n",
       "  <thead>\n",
       "    <tr style=\"text-align: right;\">\n",
       "      <th></th>\n",
       "      <th>course</th>\n",
       "      <th>duration</th>\n",
       "      <th>end</th>\n",
       "      <th>faculty</th>\n",
       "      <th>start</th>\n",
       "      <th>type</th>\n",
       "    </tr>\n",
       "  </thead>\n",
       "  <tbody>\n",
       "    <tr>\n",
       "      <th>0</th>\n",
       "      <td>ECE 105</td>\n",
       "      <td>01:50:00</td>\n",
       "      <td>2013-09-09 10:20:00-04:00</td>\n",
       "      <td>ECE</td>\n",
       "      <td>2013-09-09 08:30:00-04:00</td>\n",
       "      <td>TUT</td>\n",
       "    </tr>\n",
       "    <tr>\n",
       "      <th>1</th>\n",
       "      <td>ECE 150</td>\n",
       "      <td>00:50:00</td>\n",
       "      <td>2013-09-09 12:20:00-04:00</td>\n",
       "      <td>ECE</td>\n",
       "      <td>2013-09-09 11:30:00-04:00</td>\n",
       "      <td>TUT</td>\n",
       "    </tr>\n",
       "    <tr>\n",
       "      <th>2</th>\n",
       "      <td>ECE 105</td>\n",
       "      <td>00:50:00</td>\n",
       "      <td>2013-09-09 14:20:00-04:00</td>\n",
       "      <td>ECE</td>\n",
       "      <td>2013-09-09 13:30:00-04:00</td>\n",
       "      <td>LEC</td>\n",
       "    </tr>\n",
       "    <tr>\n",
       "      <th>3</th>\n",
       "      <td>ECE 140</td>\n",
       "      <td>00:50:00</td>\n",
       "      <td>2013-09-09 15:20:00-04:00</td>\n",
       "      <td>ECE</td>\n",
       "      <td>2013-09-09 14:30:00-04:00</td>\n",
       "      <td>LEC</td>\n",
       "    </tr>\n",
       "    <tr>\n",
       "      <th>4</th>\n",
       "      <td>MATH 117</td>\n",
       "      <td>00:50:00</td>\n",
       "      <td>2013-09-09 16:20:00-04:00</td>\n",
       "      <td>MATH</td>\n",
       "      <td>2013-09-09 15:30:00-04:00</td>\n",
       "      <td>LEC</td>\n",
       "    </tr>\n",
       "  </tbody>\n",
       "</table>\n",
       "</div>"
      ],
      "text/plain": [
       "     course  duration                        end faculty  \\\n",
       "0   ECE 105  01:50:00  2013-09-09 10:20:00-04:00     ECE   \n",
       "1   ECE 150  00:50:00  2013-09-09 12:20:00-04:00     ECE   \n",
       "2   ECE 105  00:50:00  2013-09-09 14:20:00-04:00     ECE   \n",
       "3   ECE 140  00:50:00  2013-09-09 15:20:00-04:00     ECE   \n",
       "4  MATH 117  00:50:00  2013-09-09 16:20:00-04:00    MATH   \n",
       "\n",
       "                       start type  \n",
       "0  2013-09-09 08:30:00-04:00  TUT  \n",
       "1  2013-09-09 11:30:00-04:00  TUT  \n",
       "2  2013-09-09 13:30:00-04:00  LEC  \n",
       "3  2013-09-09 14:30:00-04:00  LEC  \n",
       "4  2013-09-09 15:30:00-04:00  LEC  "
      ]
     },
     "execution_count": 2,
     "metadata": {},
     "output_type": "execute_result"
    }
   ],
   "source": [
    "cal_parser = CalendarParser('data/google/Calendar/school-schedule.ics')\n",
    "classes = pd.DataFrame(cal_parser.parse())\n",
    "classes = classes.sort_values(by='start').reset_index(drop=True)\n",
    "classes.head()"
   ]
  },
  {
   "cell_type": "code",
   "execution_count": 3,
   "metadata": {},
   "outputs": [
    {
     "data": {
      "text/plain": [
       "2085"
      ]
     },
     "execution_count": 3,
     "metadata": {},
     "output_type": "execute_result"
    }
   ],
   "source": [
    "len(classes)"
   ]
  },
  {
   "cell_type": "code",
   "execution_count": 4,
   "metadata": {},
   "outputs": [
    {
     "data": {
      "text/plain": [
       "Timedelta('102 days 20:15:00')"
      ]
     },
     "execution_count": 4,
     "metadata": {},
     "output_type": "execute_result"
    }
   ],
   "source": [
    "classes.duration.sum()"
   ]
  },
  {
   "cell_type": "code",
   "execution_count": 6,
   "metadata": {},
   "outputs": [
    {
     "name": "stdout",
     "output_type": "stream",
     "text": [
      "2468 hours\n"
     ]
    }
   ],
   "source": [
    "total_time = classes['duration'].sum()\n",
    "print(total_time.days*24 + total_time.seconds//3600, 'hours')"
   ]
  }
 ],
 "metadata": {
  "kernelspec": {
   "display_name": "Python 3",
   "language": "python",
   "name": "python3"
  },
  "language_info": {
   "codemirror_mode": {
    "name": "ipython",
    "version": 3
   },
   "file_extension": ".py",
   "mimetype": "text/x-python",
   "name": "python",
   "nbconvert_exporter": "python",
   "pygments_lexer": "ipython3",
   "version": "3.6.0"
  }
 },
 "nbformat": 4,
 "nbformat_minor": 2
}
